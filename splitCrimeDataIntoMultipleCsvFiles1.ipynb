{
 "cells": [
  {
   "cell_type": "code",
   "execution_count": 1,
   "metadata": {},
   "outputs": [],
   "source": [
    "csvFile = \"D:/EverythingD/01SRH-BDBA Acads/Blk7-DataStoryTelling/Data4Analysis/NYPD_Complaint_Data_Historic-evenmoreTRUNCATED.csv\""
   ]
  },
  {
   "cell_type": "code",
   "execution_count": null,
   "metadata": {},
   "outputs": [],
   "source": [
    "#csvFileFull = \"D:/EverythingD/01SRH-BDBA Acads/Blk7-DataStoryTelling/Data4Analysis/NYPD_Complaint_Data_Historic.csv\"\n",
    "## has 6500871 total rows including header row."
   ]
  },
  {
   "cell_type": "code",
   "execution_count": 2,
   "metadata": {},
   "outputs": [],
   "source": [
    "outCsvFileDir = \"D:/EverythingD/01SRH-BDBA Acads/Blk7-DataStoryTelling/Data4Analysis/CrimeDataSplitFiles/\""
   ]
  },
  {
   "cell_type": "code",
   "execution_count": 3,
   "metadata": {},
   "outputs": [],
   "source": [
    "outCsvFilename = \"NYPD_Complaint_Data_Historic-evenmoreTRUNCATED-1.csv\""
   ]
  },
  {
   "cell_type": "code",
   "execution_count": 4,
   "metadata": {},
   "outputs": [],
   "source": [
    "dataRowsPerFile = 5"
   ]
  },
  {
   "cell_type": "code",
   "execution_count": 5,
   "metadata": {},
   "outputs": [],
   "source": [
    "numDataRowsToSkip = 5"
   ]
  },
  {
   "cell_type": "code",
   "execution_count": 10,
   "metadata": {
    "scrolled": true
   },
   "outputs": [
    {
     "name": "stdout",
     "output_type": "stream",
     "text": [
      "Writing to output file at:\n",
      "D:/EverythingD/01SRH-BDBA Acads/Blk7-DataStoryTelling/Data4Analysis/CrimeDataSplitFiles/NYPD_Complaint_Data_Historic-evenmoreTRUNCATED-1.csv\n",
      "Opened the files and started processing.\n",
      "Read in 4 so far. Continuing...\n",
      "Read in 8 so far. Continuing...\n",
      "Read in 12 so far. Continuing...\n",
      "Read in 16 so far. Continuing...\n",
      "Read in 20 so far. Continuing...\n",
      "Read in 24 so far. Continuing...\n",
      "Read in 28 so far. Continuing...\n",
      "\n",
      "Total rows read from input file = 30\n",
      "\n",
      "Intial rows to skip = 5\n",
      "Number of data rows per output file = 5\n",
      "Total rows written to output file = 6\n"
     ]
    }
   ],
   "source": [
    "## TESTING on small\n",
    "numRowsRead = 0\n",
    "numRowsWritten = 0\n",
    "outCsvFile = outCsvFileDir + outCsvFilename\n",
    "print(f\"Writing to output file at:\\n{outCsvFile}\")\n",
    "with open(csvFile, 'r', newline='') as inCSV, open(outCsvFile, 'w', newline='') as outCSV:\n",
    "    print(f\"Opened the files and started processing.\")\n",
    "    for line in inCSV:\n",
    "        numRowsRead += 1\n",
    "        if numRowsRead % 4 == 0:\n",
    "            print(f\"Read in {numRowsRead} so far. Continuing...\")\n",
    "        if (numRowsRead > 1) and (numRowsRead <= (1 + numDataRowsToSkip) ):\n",
    "            continue\n",
    "        elif numRowsWritten < ( dataRowsPerFile + 1) :\n",
    "            outCSV.write(line)\n",
    "            numRowsWritten += 1\n",
    "\n",
    "print(f\"\\nTotal rows read from input file = {numRowsRead}\")\n",
    "print(f\"\\nIntial rows to skip = {numDataRowsToSkip}\\nNumber of data rows per output file = {dataRowsPerFile}\")\n",
    "print(f\"Total rows written to output file = {numRowsWritten}\")"
   ]
  },
  {
   "cell_type": "code",
   "execution_count": 1,
   "metadata": {},
   "outputs": [],
   "source": [
    "####    ACTUAL FILE CREATION"
   ]
  },
  {
   "cell_type": "code",
   "execution_count": 2,
   "metadata": {},
   "outputs": [
    {
     "name": "stdout",
     "output_type": "stream",
     "text": [
      "Writing to output file at:\n",
      "D:/EverythingD/01SRH-BDBA Acads/Blk7-DataStoryTelling/Data4Analysis/CrimeDataSplitFiles/OUT_NYPD_Complaint_Data_Historic-SPLIT-1.csv\n",
      "Opened the files and started processing.\n",
      "Read in 1000000 so far. Continuing...\n",
      "Read in 2000000 so far. Continuing...\n",
      "Read in 3000000 so far. Continuing...\n",
      "Read in 4000000 so far. Continuing...\n",
      "Read in 5000000 so far. Continuing...\n",
      "Read in 6000000 so far. Continuing...\n",
      "\n",
      "Total rows read from input file = 6500871\n",
      "\n",
      "Intial rows to skip = 0\n",
      "Number of data rows per output file = 500000\n",
      "Total rows written to output file = 500001\n"
     ]
    }
   ],
   "source": [
    "## set 1 -- skip 0  -- process 1st 500k\n",
    "csvFileFull = \"D:/EverythingD/01SRH-BDBA Acads/Blk7-DataStoryTelling/Data4Analysis/CrimeDataSplitFiles/IN_NYPD_Complaint_Data_Historic.csv\"\n",
    "## has 6500871 total rows including header row.\n",
    "outCsvFileDir = \"D:/EverythingD/01SRH-BDBA Acads/Blk7-DataStoryTelling/Data4Analysis/CrimeDataSplitFiles/\"\n",
    "outCsvFilename = \"OUT_NYPD_Complaint_Data_Historic-SPLIT-1.csv\"\n",
    "dataRowsPerFile = 500000\n",
    "numDataRowsToSkip = 0\n",
    "\n",
    "numRowsRead = 0\n",
    "numRowsWritten = 0\n",
    "outCsvFile = outCsvFileDir + outCsvFilename\n",
    "print(f\"Writing to output file at:\\n{outCsvFile}\")\n",
    "with open(csvFileFull, 'r', newline='') as inCSV, open(outCsvFile, 'w', newline='') as outCSV:\n",
    "    print(f\"Opened the files and started processing.\")\n",
    "    for line in inCSV:\n",
    "        numRowsRead += 1\n",
    "        if numRowsRead % 1000000 == 0:\n",
    "            print(f\"Read in {numRowsRead} so far. Continuing...\")\n",
    "        if (numRowsRead > 1) and (numRowsRead <= (1 + numDataRowsToSkip) ):\n",
    "            continue\n",
    "        elif numRowsWritten < ( dataRowsPerFile + 1) :\n",
    "            outCSV.write(line)\n",
    "            numRowsWritten += 1\n",
    "\n",
    "print(f\"\\nTotal rows read from input file = {numRowsRead}\")\n",
    "print(f\"\\nIntial rows to skip = {numDataRowsToSkip}\\nNumber of data rows per output file = {dataRowsPerFile}\")\n",
    "print(f\"Total rows written to output file = {numRowsWritten}\")"
   ]
  },
  {
   "cell_type": "code",
   "execution_count": 3,
   "metadata": {},
   "outputs": [
    {
     "name": "stdout",
     "output_type": "stream",
     "text": [
      "Writing to output file at:\n",
      "D:/EverythingD/01SRH-BDBA Acads/Blk7-DataStoryTelling/Data4Analysis/CrimeDataSplitFiles/OUT_NYPD_Complaint_Data_Historic-SPLIT-2.csv\n",
      "Opened the files and started processing.\n",
      "Read in 1000000 so far. Continuing...\n",
      "Read in 2000000 so far. Continuing...\n",
      "Read in 3000000 so far. Continuing...\n",
      "Read in 4000000 so far. Continuing...\n",
      "Read in 5000000 so far. Continuing...\n",
      "Read in 6000000 so far. Continuing...\n",
      "\n",
      "Total rows read from input file = 6500871\n",
      "\n",
      "Intial rows to skip = 500000\n",
      "Number of data rows per output file = 500000\n",
      "Total rows written to output file = 500001\n"
     ]
    }
   ],
   "source": [
    "## set 2 -- skip 500000  -- process 2nd 500k\n",
    "csvFileFull = \"D:/EverythingD/01SRH-BDBA Acads/Blk7-DataStoryTelling/Data4Analysis/CrimeDataSplitFiles/IN_NYPD_Complaint_Data_Historic.csv\"\n",
    "## has 6500871 total rows including header row.\n",
    "outCsvFileDir = \"D:/EverythingD/01SRH-BDBA Acads/Blk7-DataStoryTelling/Data4Analysis/CrimeDataSplitFiles/\"\n",
    "outCsvFilename = \"OUT_NYPD_Complaint_Data_Historic-SPLIT-2.csv\"\n",
    "dataRowsPerFile = 500000\n",
    "numDataRowsToSkip = 500000\n",
    "\n",
    "numRowsRead = 0\n",
    "numRowsWritten = 0\n",
    "outCsvFile = outCsvFileDir + outCsvFilename\n",
    "print(f\"Writing to output file at:\\n{outCsvFile}\")\n",
    "with open(csvFileFull, 'r', newline='') as inCSV, open(outCsvFile, 'w', newline='') as outCSV:\n",
    "    print(f\"Opened the files and started processing.\")\n",
    "    for line in inCSV:\n",
    "        numRowsRead += 1\n",
    "        if numRowsRead % 1000000 == 0:\n",
    "            print(f\"Read in {numRowsRead} so far. Continuing...\")\n",
    "        if (numRowsRead > 1) and (numRowsRead <= (1 + numDataRowsToSkip) ):\n",
    "            continue\n",
    "        elif numRowsWritten < ( dataRowsPerFile + 1) :\n",
    "            outCSV.write(line)\n",
    "            numRowsWritten += 1\n",
    "\n",
    "print(f\"\\nTotal rows read from input file = {numRowsRead}\")\n",
    "print(f\"\\nIntial rows to skip = {numDataRowsToSkip}\\nNumber of data rows per output file = {dataRowsPerFile}\")\n",
    "print(f\"Total rows written to output file = {numRowsWritten}\")"
   ]
  },
  {
   "cell_type": "code",
   "execution_count": 4,
   "metadata": {},
   "outputs": [
    {
     "name": "stdout",
     "output_type": "stream",
     "text": [
      "Writing to output file at:\n",
      "D:/EverythingD/01SRH-BDBA Acads/Blk7-DataStoryTelling/Data4Analysis/CrimeDataSplitFiles/OUT_NYPD_Complaint_Data_Historic-SPLIT-3.csv\n",
      "Opened the files and started processing.\n",
      "Read in 1000000 so far. Continuing...\n",
      "Read in 2000000 so far. Continuing...\n",
      "Read in 3000000 so far. Continuing...\n",
      "Read in 4000000 so far. Continuing...\n",
      "Read in 5000000 so far. Continuing...\n",
      "Read in 6000000 so far. Continuing...\n",
      "\n",
      "Total rows read from input file = 6500871\n",
      "\n",
      "Intial rows to skip = 1000000\n",
      "Number of data rows per output file = 500000\n",
      "Total rows written to output file = 500001\n"
     ]
    }
   ],
   "source": [
    "## set 3 -- skip 1000000  -- process 3rd 500k\n",
    "csvFileFull = \"D:/EverythingD/01SRH-BDBA Acads/Blk7-DataStoryTelling/Data4Analysis/CrimeDataSplitFiles/IN_NYPD_Complaint_Data_Historic.csv\"\n",
    "## has 6500871 total rows including header row.\n",
    "outCsvFileDir = \"D:/EverythingD/01SRH-BDBA Acads/Blk7-DataStoryTelling/Data4Analysis/CrimeDataSplitFiles/\"\n",
    "outCsvFilename = \"OUT_NYPD_Complaint_Data_Historic-SPLIT-3.csv\"\n",
    "dataRowsPerFile = 500000\n",
    "numDataRowsToSkip = 1000000\n",
    "\n",
    "numRowsRead = 0\n",
    "numRowsWritten = 0\n",
    "outCsvFile = outCsvFileDir + outCsvFilename\n",
    "print(f\"Writing to output file at:\\n{outCsvFile}\")\n",
    "with open(csvFileFull, 'r', newline='') as inCSV, open(outCsvFile, 'w', newline='') as outCSV:\n",
    "    print(f\"Opened the files and started processing.\")\n",
    "    for line in inCSV:\n",
    "        numRowsRead += 1\n",
    "        if numRowsRead % 1000000 == 0:\n",
    "            print(f\"Read in {numRowsRead} so far. Continuing...\")\n",
    "        if (numRowsRead > 1) and (numRowsRead <= (1 + numDataRowsToSkip) ):\n",
    "            continue\n",
    "        elif numRowsWritten < ( dataRowsPerFile + 1) :\n",
    "            outCSV.write(line)\n",
    "            numRowsWritten += 1\n",
    "\n",
    "print(f\"\\nTotal rows read from input file = {numRowsRead}\")\n",
    "print(f\"\\nIntial rows to skip = {numDataRowsToSkip}\\nNumber of data rows per output file = {dataRowsPerFile}\")\n",
    "print(f\"Total rows written to output file = {numRowsWritten}\")"
   ]
  },
  {
   "cell_type": "code",
   "execution_count": 5,
   "metadata": {},
   "outputs": [
    {
     "name": "stdout",
     "output_type": "stream",
     "text": [
      "Writing to output file at:\n",
      "D:/EverythingD/01SRH-BDBA Acads/Blk7-DataStoryTelling/Data4Analysis/CrimeDataSplitFiles/OUT_NYPD_Complaint_Data_Historic-SPLIT-4.csv\n",
      "Opened the files and started processing.\n",
      "Read in 1000000 so far. Continuing...\n",
      "Read in 2000000 so far. Continuing...\n",
      "Read in 3000000 so far. Continuing...\n",
      "Read in 4000000 so far. Continuing...\n",
      "Read in 5000000 so far. Continuing...\n",
      "Read in 6000000 so far. Continuing...\n",
      "\n",
      "Total rows read from input file = 6500871\n",
      "\n",
      "Intial rows to skip = 1500000\n",
      "Number of data rows per output file = 500000\n",
      "Total rows written to output file = 500001\n"
     ]
    }
   ],
   "source": [
    "## set 4 -- skip 1500000  -- process 4th 500k\n",
    "csvFileFull = \"D:/EverythingD/01SRH-BDBA Acads/Blk7-DataStoryTelling/Data4Analysis/CrimeDataSplitFiles/IN_NYPD_Complaint_Data_Historic.csv\"\n",
    "## has 6500871 total rows including header row.\n",
    "outCsvFileDir = \"D:/EverythingD/01SRH-BDBA Acads/Blk7-DataStoryTelling/Data4Analysis/CrimeDataSplitFiles/\"\n",
    "outCsvFilename = \"OUT_NYPD_Complaint_Data_Historic-SPLIT-4.csv\"\n",
    "dataRowsPerFile = 500000\n",
    "numDataRowsToSkip = 1500000\n",
    "\n",
    "numRowsRead = 0\n",
    "numRowsWritten = 0\n",
    "outCsvFile = outCsvFileDir + outCsvFilename\n",
    "print(f\"Writing to output file at:\\n{outCsvFile}\")\n",
    "with open(csvFileFull, 'r', newline='') as inCSV, open(outCsvFile, 'w', newline='') as outCSV:\n",
    "    print(f\"Opened the files and started processing.\")\n",
    "    for line in inCSV:\n",
    "        numRowsRead += 1\n",
    "        if numRowsRead % 1000000 == 0:\n",
    "            print(f\"Read in {numRowsRead} so far. Continuing...\")\n",
    "        if (numRowsRead > 1) and (numRowsRead <= (1 + numDataRowsToSkip) ):\n",
    "            continue\n",
    "        elif numRowsWritten < ( dataRowsPerFile + 1) :\n",
    "            outCSV.write(line)\n",
    "            numRowsWritten += 1\n",
    "\n",
    "print(f\"\\nTotal rows read from input file = {numRowsRead}\")\n",
    "print(f\"\\nIntial rows to skip = {numDataRowsToSkip}\\nNumber of data rows per output file = {dataRowsPerFile}\")\n",
    "print(f\"Total rows written to output file = {numRowsWritten}\")"
   ]
  },
  {
   "cell_type": "code",
   "execution_count": 6,
   "metadata": {},
   "outputs": [
    {
     "name": "stdout",
     "output_type": "stream",
     "text": [
      "Writing to output file at:\n",
      "D:/EverythingD/01SRH-BDBA Acads/Blk7-DataStoryTelling/Data4Analysis/CrimeDataSplitFiles/OUT_NYPD_Complaint_Data_Historic-SPLIT-5.csv\n",
      "Opened the files and started processing.\n",
      "Read in 1000000 so far. Continuing...\n",
      "Read in 2000000 so far. Continuing...\n",
      "Read in 3000000 so far. Continuing...\n",
      "Read in 4000000 so far. Continuing...\n",
      "Read in 5000000 so far. Continuing...\n",
      "Read in 6000000 so far. Continuing...\n",
      "\n",
      "Total rows read from input file = 6500871\n",
      "\n",
      "Intial rows to skip = 2000000\n",
      "Number of data rows per output file = 500000\n",
      "Total rows written to output file = 500001\n"
     ]
    }
   ],
   "source": [
    "## set 5 -- skip 2000000  -- process 5th 500k\n",
    "csvFileFull = \"D:/EverythingD/01SRH-BDBA Acads/Blk7-DataStoryTelling/Data4Analysis/CrimeDataSplitFiles/IN_NYPD_Complaint_Data_Historic.csv\"\n",
    "## has 6500871 total rows including header row.\n",
    "outCsvFileDir = \"D:/EverythingD/01SRH-BDBA Acads/Blk7-DataStoryTelling/Data4Analysis/CrimeDataSplitFiles/\"\n",
    "outCsvFilename = \"OUT_NYPD_Complaint_Data_Historic-SPLIT-5.csv\"\n",
    "dataRowsPerFile = 500000\n",
    "numDataRowsToSkip = 2000000\n",
    "\n",
    "numRowsRead = 0\n",
    "numRowsWritten = 0\n",
    "outCsvFile = outCsvFileDir + outCsvFilename\n",
    "print(f\"Writing to output file at:\\n{outCsvFile}\")\n",
    "with open(csvFileFull, 'r', newline='') as inCSV, open(outCsvFile, 'w', newline='') as outCSV:\n",
    "    print(f\"Opened the files and started processing.\")\n",
    "    for line in inCSV:\n",
    "        numRowsRead += 1\n",
    "        if numRowsRead % 1000000 == 0:\n",
    "            print(f\"Read in {numRowsRead} so far. Continuing...\")\n",
    "        if (numRowsRead > 1) and (numRowsRead <= (1 + numDataRowsToSkip) ):\n",
    "            continue\n",
    "        elif numRowsWritten < ( dataRowsPerFile + 1) :\n",
    "            outCSV.write(line)\n",
    "            numRowsWritten += 1\n",
    "\n",
    "print(f\"\\nTotal rows read from input file = {numRowsRead}\")\n",
    "print(f\"\\nIntial rows to skip = {numDataRowsToSkip}\\nNumber of data rows per output file = {dataRowsPerFile}\")\n",
    "print(f\"Total rows written to output file = {numRowsWritten}\")"
   ]
  },
  {
   "cell_type": "code",
   "execution_count": 7,
   "metadata": {},
   "outputs": [
    {
     "name": "stdout",
     "output_type": "stream",
     "text": [
      "Writing to output file at:\n",
      "D:/EverythingD/01SRH-BDBA Acads/Blk7-DataStoryTelling/Data4Analysis/CrimeDataSplitFiles/OUT_NYPD_Complaint_Data_Historic-SPLIT-6.csv\n",
      "Opened the files and started processing.\n",
      "Read in 1000000 so far. Continuing...\n",
      "Read in 2000000 so far. Continuing...\n",
      "Read in 3000000 so far. Continuing...\n",
      "Read in 4000000 so far. Continuing...\n",
      "Read in 5000000 so far. Continuing...\n",
      "Read in 6000000 so far. Continuing...\n",
      "\n",
      "Total rows read from input file = 6500871\n",
      "\n",
      "Intial rows to skip = 2500000\n",
      "Number of data rows per output file = 500000\n",
      "Total rows written to output file = 500001\n"
     ]
    }
   ],
   "source": [
    "## set 6 -- skip 2500000  -- process 6th 500k\n",
    "csvFileFull = \"D:/EverythingD/01SRH-BDBA Acads/Blk7-DataStoryTelling/Data4Analysis/CrimeDataSplitFiles/IN_NYPD_Complaint_Data_Historic.csv\"\n",
    "## has 6500871 total rows including header row.\n",
    "outCsvFileDir = \"D:/EverythingD/01SRH-BDBA Acads/Blk7-DataStoryTelling/Data4Analysis/CrimeDataSplitFiles/\"\n",
    "outCsvFilename = \"OUT_NYPD_Complaint_Data_Historic-SPLIT-6.csv\"\n",
    "dataRowsPerFile = 500000\n",
    "numDataRowsToSkip = 2500000\n",
    "\n",
    "numRowsRead = 0\n",
    "numRowsWritten = 0\n",
    "outCsvFile = outCsvFileDir + outCsvFilename\n",
    "print(f\"Writing to output file at:\\n{outCsvFile}\")\n",
    "with open(csvFileFull, 'r', newline='') as inCSV, open(outCsvFile, 'w', newline='') as outCSV:\n",
    "    print(f\"Opened the files and started processing.\")\n",
    "    for line in inCSV:\n",
    "        numRowsRead += 1\n",
    "        if numRowsRead % 1000000 == 0:\n",
    "            print(f\"Read in {numRowsRead} so far. Continuing...\")\n",
    "        if (numRowsRead > 1) and (numRowsRead <= (1 + numDataRowsToSkip) ):\n",
    "            continue\n",
    "        elif numRowsWritten < ( dataRowsPerFile + 1) :\n",
    "            outCSV.write(line)\n",
    "            numRowsWritten += 1\n",
    "\n",
    "print(f\"\\nTotal rows read from input file = {numRowsRead}\")\n",
    "print(f\"\\nIntial rows to skip = {numDataRowsToSkip}\\nNumber of data rows per output file = {dataRowsPerFile}\")\n",
    "print(f\"Total rows written to output file = {numRowsWritten}\")"
   ]
  },
  {
   "cell_type": "code",
   "execution_count": 8,
   "metadata": {},
   "outputs": [
    {
     "name": "stdout",
     "output_type": "stream",
     "text": [
      "Writing to output file at:\n",
      "D:/EverythingD/01SRH-BDBA Acads/Blk7-DataStoryTelling/Data4Analysis/CrimeDataSplitFiles/OUT_NYPD_Complaint_Data_Historic-SPLIT-7.csv\n",
      "Opened the files and started processing.\n",
      "Read in 1000000 so far. Continuing...\n",
      "Read in 2000000 so far. Continuing...\n",
      "Read in 3000000 so far. Continuing...\n",
      "Read in 4000000 so far. Continuing...\n",
      "Read in 5000000 so far. Continuing...\n",
      "Read in 6000000 so far. Continuing...\n",
      "\n",
      "Total rows read from input file = 6500871\n",
      "\n",
      "Intial rows to skip = 3000000\n",
      "Number of data rows per output file = 500000\n",
      "Total rows written to output file = 500001\n"
     ]
    }
   ],
   "source": [
    "## set 7 -- skip 3000000  -- process 7th 500k\n",
    "csvFileFull = \"D:/EverythingD/01SRH-BDBA Acads/Blk7-DataStoryTelling/Data4Analysis/CrimeDataSplitFiles/IN_NYPD_Complaint_Data_Historic.csv\"\n",
    "## has 6500871 total rows including header row.\n",
    "outCsvFileDir = \"D:/EverythingD/01SRH-BDBA Acads/Blk7-DataStoryTelling/Data4Analysis/CrimeDataSplitFiles/\"\n",
    "outCsvFilename = \"OUT_NYPD_Complaint_Data_Historic-SPLIT-7.csv\"\n",
    "dataRowsPerFile = 500000\n",
    "numDataRowsToSkip = 3000000\n",
    "\n",
    "numRowsRead = 0\n",
    "numRowsWritten = 0\n",
    "outCsvFile = outCsvFileDir + outCsvFilename\n",
    "print(f\"Writing to output file at:\\n{outCsvFile}\")\n",
    "with open(csvFileFull, 'r', newline='') as inCSV, open(outCsvFile, 'w', newline='') as outCSV:\n",
    "    print(f\"Opened the files and started processing.\")\n",
    "    for line in inCSV:\n",
    "        numRowsRead += 1\n",
    "        if numRowsRead % 1000000 == 0:\n",
    "            print(f\"Read in {numRowsRead} so far. Continuing...\")\n",
    "        if (numRowsRead > 1) and (numRowsRead <= (1 + numDataRowsToSkip) ):\n",
    "            continue\n",
    "        elif numRowsWritten < ( dataRowsPerFile + 1) :\n",
    "            outCSV.write(line)\n",
    "            numRowsWritten += 1\n",
    "\n",
    "print(f\"\\nTotal rows read from input file = {numRowsRead}\")\n",
    "print(f\"\\nIntial rows to skip = {numDataRowsToSkip}\\nNumber of data rows per output file = {dataRowsPerFile}\")\n",
    "print(f\"Total rows written to output file = {numRowsWritten}\")"
   ]
  },
  {
   "cell_type": "code",
   "execution_count": 9,
   "metadata": {},
   "outputs": [
    {
     "name": "stdout",
     "output_type": "stream",
     "text": [
      "Writing to output file at:\n",
      "D:/EverythingD/01SRH-BDBA Acads/Blk7-DataStoryTelling/Data4Analysis/CrimeDataSplitFiles/OUT_NYPD_Complaint_Data_Historic-SPLIT-8.csv\n",
      "Opened the files and started processing.\n",
      "Read in 1000000 so far. Continuing...\n",
      "Read in 2000000 so far. Continuing...\n",
      "Read in 3000000 so far. Continuing...\n",
      "Read in 4000000 so far. Continuing...\n",
      "Read in 5000000 so far. Continuing...\n",
      "Read in 6000000 so far. Continuing...\n",
      "\n",
      "Total rows read from input file = 6500871\n",
      "\n",
      "Intial rows to skip = 3500000\n",
      "Number of data rows per output file = 500000\n",
      "Total rows written to output file = 500001\n"
     ]
    }
   ],
   "source": [
    "## set 8 -- skip 3500000  -- process 8th 500k\n",
    "csvFileFull = \"D:/EverythingD/01SRH-BDBA Acads/Blk7-DataStoryTelling/Data4Analysis/CrimeDataSplitFiles/IN_NYPD_Complaint_Data_Historic.csv\"\n",
    "## has 6500871 total rows including header row.\n",
    "outCsvFileDir = \"D:/EverythingD/01SRH-BDBA Acads/Blk7-DataStoryTelling/Data4Analysis/CrimeDataSplitFiles/\"\n",
    "outCsvFilename = \"OUT_NYPD_Complaint_Data_Historic-SPLIT-8.csv\"\n",
    "dataRowsPerFile = 500000\n",
    "numDataRowsToSkip = 3500000\n",
    "\n",
    "numRowsRead = 0\n",
    "numRowsWritten = 0\n",
    "outCsvFile = outCsvFileDir + outCsvFilename\n",
    "print(f\"Writing to output file at:\\n{outCsvFile}\")\n",
    "with open(csvFileFull, 'r', newline='') as inCSV, open(outCsvFile, 'w', newline='') as outCSV:\n",
    "    print(f\"Opened the files and started processing.\")\n",
    "    for line in inCSV:\n",
    "        numRowsRead += 1\n",
    "        if numRowsRead % 1000000 == 0:\n",
    "            print(f\"Read in {numRowsRead} so far. Continuing...\")\n",
    "        if (numRowsRead > 1) and (numRowsRead <= (1 + numDataRowsToSkip) ):\n",
    "            continue\n",
    "        elif numRowsWritten < ( dataRowsPerFile + 1) :\n",
    "            outCSV.write(line)\n",
    "            numRowsWritten += 1\n",
    "\n",
    "print(f\"\\nTotal rows read from input file = {numRowsRead}\")\n",
    "print(f\"\\nIntial rows to skip = {numDataRowsToSkip}\\nNumber of data rows per output file = {dataRowsPerFile}\")\n",
    "print(f\"Total rows written to output file = {numRowsWritten}\")"
   ]
  },
  {
   "cell_type": "code",
   "execution_count": 10,
   "metadata": {},
   "outputs": [
    {
     "name": "stdout",
     "output_type": "stream",
     "text": [
      "Writing to output file at:\n",
      "D:/EverythingD/01SRH-BDBA Acads/Blk7-DataStoryTelling/Data4Analysis/CrimeDataSplitFiles/OUT_NYPD_Complaint_Data_Historic-SPLIT-9.csv\n",
      "Opened the files and started processing.\n",
      "Read in 1000000 so far. Continuing...\n",
      "Read in 2000000 so far. Continuing...\n",
      "Read in 3000000 so far. Continuing...\n",
      "Read in 4000000 so far. Continuing...\n",
      "Read in 5000000 so far. Continuing...\n",
      "Read in 6000000 so far. Continuing...\n",
      "\n",
      "Total rows read from input file = 6500871\n",
      "\n",
      "Intial rows to skip = 4000000\n",
      "Number of data rows per output file = 500000\n",
      "Total rows written to output file = 500001\n"
     ]
    }
   ],
   "source": [
    "## set 9 -- skip 4000000  -- process 9th 500k\n",
    "csvFileFull = \"D:/EverythingD/01SRH-BDBA Acads/Blk7-DataStoryTelling/Data4Analysis/CrimeDataSplitFiles/IN_NYPD_Complaint_Data_Historic.csv\"\n",
    "## has 6500871 total rows including header row.\n",
    "outCsvFileDir = \"D:/EverythingD/01SRH-BDBA Acads/Blk7-DataStoryTelling/Data4Analysis/CrimeDataSplitFiles/\"\n",
    "outCsvFilename = \"OUT_NYPD_Complaint_Data_Historic-SPLIT-9.csv\"\n",
    "dataRowsPerFile = 500000\n",
    "numDataRowsToSkip = 4000000\n",
    "\n",
    "numRowsRead = 0\n",
    "numRowsWritten = 0\n",
    "outCsvFile = outCsvFileDir + outCsvFilename\n",
    "print(f\"Writing to output file at:\\n{outCsvFile}\")\n",
    "with open(csvFileFull, 'r', newline='') as inCSV, open(outCsvFile, 'w', newline='') as outCSV:\n",
    "    print(f\"Opened the files and started processing.\")\n",
    "    for line in inCSV:\n",
    "        numRowsRead += 1\n",
    "        if numRowsRead % 1000000 == 0:\n",
    "            print(f\"Read in {numRowsRead} so far. Continuing...\")\n",
    "        if (numRowsRead > 1) and (numRowsRead <= (1 + numDataRowsToSkip) ):\n",
    "            continue\n",
    "        elif numRowsWritten < ( dataRowsPerFile + 1) :\n",
    "            outCSV.write(line)\n",
    "            numRowsWritten += 1\n",
    "\n",
    "print(f\"\\nTotal rows read from input file = {numRowsRead}\")\n",
    "print(f\"\\nIntial rows to skip = {numDataRowsToSkip}\\nNumber of data rows per output file = {dataRowsPerFile}\")\n",
    "print(f\"Total rows written to output file = {numRowsWritten}\")"
   ]
  },
  {
   "cell_type": "code",
   "execution_count": 11,
   "metadata": {},
   "outputs": [
    {
     "name": "stdout",
     "output_type": "stream",
     "text": [
      "Writing to output file at:\n",
      "D:/EverythingD/01SRH-BDBA Acads/Blk7-DataStoryTelling/Data4Analysis/CrimeDataSplitFiles/OUT_NYPD_Complaint_Data_Historic-SPLIT-10.csv\n",
      "Opened the files and started processing.\n",
      "Read in 1000000 so far. Continuing...\n",
      "Read in 2000000 so far. Continuing...\n",
      "Read in 3000000 so far. Continuing...\n",
      "Read in 4000000 so far. Continuing...\n",
      "Read in 5000000 so far. Continuing...\n",
      "Read in 6000000 so far. Continuing...\n",
      "\n",
      "Total rows read from input file = 6500871\n",
      "\n",
      "Intial rows to skip = 4500000\n",
      "Number of data rows per output file = 500000\n",
      "Total rows written to output file = 500001\n"
     ]
    }
   ],
   "source": [
    "## set 10 -- skip 4500000  -- process 10th 500k\n",
    "csvFileFull = \"D:/EverythingD/01SRH-BDBA Acads/Blk7-DataStoryTelling/Data4Analysis/CrimeDataSplitFiles/IN_NYPD_Complaint_Data_Historic.csv\"\n",
    "## has 6500871 total rows including header row.\n",
    "outCsvFileDir = \"D:/EverythingD/01SRH-BDBA Acads/Blk7-DataStoryTelling/Data4Analysis/CrimeDataSplitFiles/\"\n",
    "outCsvFilename = \"OUT_NYPD_Complaint_Data_Historic-SPLIT-10.csv\"\n",
    "dataRowsPerFile = 500000\n",
    "numDataRowsToSkip = 4500000\n",
    "\n",
    "numRowsRead = 0\n",
    "numRowsWritten = 0\n",
    "outCsvFile = outCsvFileDir + outCsvFilename\n",
    "print(f\"Writing to output file at:\\n{outCsvFile}\")\n",
    "with open(csvFileFull, 'r', newline='') as inCSV, open(outCsvFile, 'w', newline='') as outCSV:\n",
    "    print(f\"Opened the files and started processing.\")\n",
    "    for line in inCSV:\n",
    "        numRowsRead += 1\n",
    "        if numRowsRead % 1000000 == 0:\n",
    "            print(f\"Read in {numRowsRead} so far. Continuing...\")\n",
    "        if (numRowsRead > 1) and (numRowsRead <= (1 + numDataRowsToSkip) ):\n",
    "            continue\n",
    "        elif numRowsWritten < ( dataRowsPerFile + 1) :\n",
    "            outCSV.write(line)\n",
    "            numRowsWritten += 1\n",
    "\n",
    "print(f\"\\nTotal rows read from input file = {numRowsRead}\")\n",
    "print(f\"\\nIntial rows to skip = {numDataRowsToSkip}\\nNumber of data rows per output file = {dataRowsPerFile}\")\n",
    "print(f\"Total rows written to output file = {numRowsWritten}\")"
   ]
  },
  {
   "cell_type": "code",
   "execution_count": 12,
   "metadata": {},
   "outputs": [
    {
     "name": "stdout",
     "output_type": "stream",
     "text": [
      "Writing to output file at:\n",
      "D:/EverythingD/01SRH-BDBA Acads/Blk7-DataStoryTelling/Data4Analysis/CrimeDataSplitFiles/OUT_NYPD_Complaint_Data_Historic-SPLIT-11.csv\n",
      "Opened the files and started processing.\n",
      "Read in 1000000 so far. Continuing...\n",
      "Read in 2000000 so far. Continuing...\n",
      "Read in 3000000 so far. Continuing...\n",
      "Read in 4000000 so far. Continuing...\n",
      "Read in 5000000 so far. Continuing...\n",
      "Read in 6000000 so far. Continuing...\n",
      "\n",
      "Total rows read from input file = 6500871\n",
      "\n",
      "Intial rows to skip = 5000000\n",
      "Number of data rows per output file = 500000\n",
      "Total rows written to output file = 500001\n"
     ]
    }
   ],
   "source": [
    "## set 11 -- skip 5000000  -- process 11th 500k\n",
    "csvFileFull = \"D:/EverythingD/01SRH-BDBA Acads/Blk7-DataStoryTelling/Data4Analysis/CrimeDataSplitFiles/IN_NYPD_Complaint_Data_Historic.csv\"\n",
    "## has 6500871 total rows including header row.\n",
    "outCsvFileDir = \"D:/EverythingD/01SRH-BDBA Acads/Blk7-DataStoryTelling/Data4Analysis/CrimeDataSplitFiles/\"\n",
    "outCsvFilename = \"OUT_NYPD_Complaint_Data_Historic-SPLIT-11.csv\"\n",
    "dataRowsPerFile = 500000\n",
    "numDataRowsToSkip = 5000000\n",
    "\n",
    "numRowsRead = 0\n",
    "numRowsWritten = 0\n",
    "outCsvFile = outCsvFileDir + outCsvFilename\n",
    "print(f\"Writing to output file at:\\n{outCsvFile}\")\n",
    "with open(csvFileFull, 'r', newline='') as inCSV, open(outCsvFile, 'w', newline='') as outCSV:\n",
    "    print(f\"Opened the files and started processing.\")\n",
    "    for line in inCSV:\n",
    "        numRowsRead += 1\n",
    "        if numRowsRead % 1000000 == 0:\n",
    "            print(f\"Read in {numRowsRead} so far. Continuing...\")\n",
    "        if (numRowsRead > 1) and (numRowsRead <= (1 + numDataRowsToSkip) ):\n",
    "            continue\n",
    "        elif numRowsWritten < ( dataRowsPerFile + 1) :\n",
    "            outCSV.write(line)\n",
    "            numRowsWritten += 1\n",
    "\n",
    "print(f\"\\nTotal rows read from input file = {numRowsRead}\")\n",
    "print(f\"\\nIntial rows to skip = {numDataRowsToSkip}\\nNumber of data rows per output file = {dataRowsPerFile}\")\n",
    "print(f\"Total rows written to output file = {numRowsWritten}\")"
   ]
  },
  {
   "cell_type": "code",
   "execution_count": 13,
   "metadata": {},
   "outputs": [
    {
     "name": "stdout",
     "output_type": "stream",
     "text": [
      "Writing to output file at:\n",
      "D:/EverythingD/01SRH-BDBA Acads/Blk7-DataStoryTelling/Data4Analysis/CrimeDataSplitFiles/OUT_NYPD_Complaint_Data_Historic-SPLIT-12.csv\n",
      "Opened the files and started processing.\n",
      "Read in 1000000 so far. Continuing...\n",
      "Read in 2000000 so far. Continuing...\n",
      "Read in 3000000 so far. Continuing...\n",
      "Read in 4000000 so far. Continuing...\n",
      "Read in 5000000 so far. Continuing...\n",
      "Read in 6000000 so far. Continuing...\n",
      "\n",
      "Total rows read from input file = 6500871\n",
      "\n",
      "Intial rows to skip = 5500000\n",
      "Number of data rows per output file = 500000\n",
      "Total rows written to output file = 500001\n"
     ]
    }
   ],
   "source": [
    "## set 12 -- skip 5500000  -- process 12th 500k\n",
    "csvFileFull = \"D:/EverythingD/01SRH-BDBA Acads/Blk7-DataStoryTelling/Data4Analysis/CrimeDataSplitFiles/IN_NYPD_Complaint_Data_Historic.csv\"\n",
    "## has 6500871 total rows including header row.\n",
    "outCsvFileDir = \"D:/EverythingD/01SRH-BDBA Acads/Blk7-DataStoryTelling/Data4Analysis/CrimeDataSplitFiles/\"\n",
    "outCsvFilename = \"OUT_NYPD_Complaint_Data_Historic-SPLIT-12.csv\"\n",
    "dataRowsPerFile = 500000\n",
    "numDataRowsToSkip = 5500000\n",
    "\n",
    "numRowsRead = 0\n",
    "numRowsWritten = 0\n",
    "outCsvFile = outCsvFileDir + outCsvFilename\n",
    "print(f\"Writing to output file at:\\n{outCsvFile}\")\n",
    "with open(csvFileFull, 'r', newline='') as inCSV, open(outCsvFile, 'w', newline='') as outCSV:\n",
    "    print(f\"Opened the files and started processing.\")\n",
    "    for line in inCSV:\n",
    "        numRowsRead += 1\n",
    "        if numRowsRead % 1000000 == 0:\n",
    "            print(f\"Read in {numRowsRead} so far. Continuing...\")\n",
    "        if (numRowsRead > 1) and (numRowsRead <= (1 + numDataRowsToSkip) ):\n",
    "            continue\n",
    "        elif numRowsWritten < ( dataRowsPerFile + 1) :\n",
    "            outCSV.write(line)\n",
    "            numRowsWritten += 1\n",
    "\n",
    "print(f\"\\nTotal rows read from input file = {numRowsRead}\")\n",
    "print(f\"\\nIntial rows to skip = {numDataRowsToSkip}\\nNumber of data rows per output file = {dataRowsPerFile}\")\n",
    "print(f\"Total rows written to output file = {numRowsWritten}\")"
   ]
  },
  {
   "cell_type": "code",
   "execution_count": 14,
   "metadata": {},
   "outputs": [
    {
     "name": "stdout",
     "output_type": "stream",
     "text": [
      "Writing to output file at:\n",
      "D:/EverythingD/01SRH-BDBA Acads/Blk7-DataStoryTelling/Data4Analysis/CrimeDataSplitFiles/OUT_NYPD_Complaint_Data_Historic-SPLIT-13.csv\n",
      "Opened the files and started processing.\n",
      "Read in 1000000 so far. Continuing...\n",
      "Read in 2000000 so far. Continuing...\n",
      "Read in 3000000 so far. Continuing...\n",
      "Read in 4000000 so far. Continuing...\n",
      "Read in 5000000 so far. Continuing...\n",
      "Read in 6000000 so far. Continuing...\n",
      "\n",
      "Total rows read from input file = 6500871\n",
      "\n",
      "Intial rows to skip = 6000000\n",
      "Number of data rows per output file = 500000\n",
      "Total rows written to output file = 500001\n"
     ]
    }
   ],
   "source": [
    "## set 13 -- skip 6000000  -- process 13th 500k\n",
    "csvFileFull = \"D:/EverythingD/01SRH-BDBA Acads/Blk7-DataStoryTelling/Data4Analysis/CrimeDataSplitFiles/IN_NYPD_Complaint_Data_Historic.csv\"\n",
    "## has 6500871 total rows including header row.\n",
    "outCsvFileDir = \"D:/EverythingD/01SRH-BDBA Acads/Blk7-DataStoryTelling/Data4Analysis/CrimeDataSplitFiles/\"\n",
    "outCsvFilename = \"OUT_NYPD_Complaint_Data_Historic-SPLIT-13.csv\"\n",
    "dataRowsPerFile = 500000\n",
    "numDataRowsToSkip = 6000000\n",
    "\n",
    "numRowsRead = 0\n",
    "numRowsWritten = 0\n",
    "outCsvFile = outCsvFileDir + outCsvFilename\n",
    "print(f\"Writing to output file at:\\n{outCsvFile}\")\n",
    "with open(csvFileFull, 'r', newline='') as inCSV, open(outCsvFile, 'w', newline='') as outCSV:\n",
    "    print(f\"Opened the files and started processing.\")\n",
    "    for line in inCSV:\n",
    "        numRowsRead += 1\n",
    "        if numRowsRead % 1000000 == 0:\n",
    "            print(f\"Read in {numRowsRead} so far. Continuing...\")\n",
    "        if (numRowsRead > 1) and (numRowsRead <= (1 + numDataRowsToSkip) ):\n",
    "            continue\n",
    "        elif numRowsWritten < ( dataRowsPerFile + 1) :\n",
    "            outCSV.write(line)\n",
    "            numRowsWritten += 1\n",
    "\n",
    "print(f\"\\nTotal rows read from input file = {numRowsRead}\")\n",
    "print(f\"\\nIntial rows to skip = {numDataRowsToSkip}\\nNumber of data rows per output file = {dataRowsPerFile}\")\n",
    "print(f\"Total rows written to output file = {numRowsWritten}\")"
   ]
  },
  {
   "cell_type": "code",
   "execution_count": 1,
   "metadata": {},
   "outputs": [
    {
     "name": "stdout",
     "output_type": "stream",
     "text": [
      "Writing to output file at:\n",
      "D:/EverythingD/01SRH-BDBA Acads/Blk7-DataStoryTelling/Data4Analysis/CrimeDataSplitFiles/OUT_NYPD_Complaint_Data_Historic-SPLIT-14.csv\n",
      "Opened the files and started processing.\n",
      "Read in 1000000 so far. Continuing...\n",
      "Read in 2000000 so far. Continuing...\n",
      "Read in 3000000 so far. Continuing...\n",
      "Read in 4000000 so far. Continuing...\n",
      "Read in 5000000 so far. Continuing...\n",
      "Read in 6000000 so far. Continuing...\n",
      "\n",
      "Total rows read from input file = 6500871\n",
      "\n",
      "Intial rows to skip = 6500000\n",
      "Number of data rows per output file = 500000\n",
      "Total rows written to output file = 871\n"
     ]
    }
   ],
   "source": [
    "## set 14 -- skip 6500000  -- process 14th 500k\n",
    "csvFileFull = \"D:/EverythingD/01SRH-BDBA Acads/Blk7-DataStoryTelling/Data4Analysis/CrimeDataSplitFiles/IN_NYPD_Complaint_Data_Historic.csv\"\n",
    "## has 6500871 total rows including header row.\n",
    "outCsvFileDir = \"D:/EverythingD/01SRH-BDBA Acads/Blk7-DataStoryTelling/Data4Analysis/CrimeDataSplitFiles/\"\n",
    "outCsvFilename = \"OUT_NYPD_Complaint_Data_Historic-SPLIT-14.csv\"\n",
    "dataRowsPerFile = 500000\n",
    "numDataRowsToSkip = 6500000\n",
    "\n",
    "numRowsRead = 0\n",
    "numRowsWritten = 0\n",
    "outCsvFile = outCsvFileDir + outCsvFilename\n",
    "print(f\"Writing to output file at:\\n{outCsvFile}\")\n",
    "with open(csvFileFull, 'r', newline='') as inCSV, open(outCsvFile, 'w', newline='') as outCSV:\n",
    "    print(f\"Opened the files and started processing.\")\n",
    "    for line in inCSV:\n",
    "        numRowsRead += 1\n",
    "        if numRowsRead % 1000000 == 0:\n",
    "            print(f\"Read in {numRowsRead} so far. Continuing...\")\n",
    "        if (numRowsRead > 1) and (numRowsRead <= (1 + numDataRowsToSkip) ):\n",
    "            continue\n",
    "        elif numRowsWritten < ( dataRowsPerFile + 1) :\n",
    "            outCSV.write(line)\n",
    "            numRowsWritten += 1\n",
    "\n",
    "print(f\"\\nTotal rows read from input file = {numRowsRead}\")\n",
    "print(f\"\\nIntial rows to skip = {numDataRowsToSkip}\\nNumber of data rows per output file = {dataRowsPerFile}\")\n",
    "print(f\"Total rows written to output file = {numRowsWritten}\")"
   ]
  }
 ],
 "metadata": {
  "kernelspec": {
   "display_name": "Python 3",
   "language": "python",
   "name": "python3"
  },
  "language_info": {
   "codemirror_mode": {
    "name": "ipython",
    "version": 3
   },
   "file_extension": ".py",
   "mimetype": "text/x-python",
   "name": "python",
   "nbconvert_exporter": "python",
   "pygments_lexer": "ipython3",
   "version": "3.6.9"
  }
 },
 "nbformat": 4,
 "nbformat_minor": 2
}
